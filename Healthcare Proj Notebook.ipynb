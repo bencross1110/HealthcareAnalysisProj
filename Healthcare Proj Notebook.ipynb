{
 "cells": [
  {
   "cell_type": "markdown",
   "metadata": {},
   "source": [
    "Healthcare Related Artifical Dataset from Kaggle: Link: ___\n",
    "\n",
    "\n",
    "1. EXPLORATORY STAGE:\n",
    "- Import necessary modules\n",
    "- Import dataset\n",
    "- Explore dataset using head, describe, shape, info commands\n",
    "- Note any issues for cleaning later\n"
   ]
  },
  {
   "cell_type": "code",
   "execution_count": 29,
   "metadata": {},
   "outputs": [],
   "source": [
    "import pandas as pd\n",
    "import numpy as np\n",
    "import matplotlib.pyplot as plt\n",
    "plt.style.use('ggplot')"
   ]
  },
  {
   "cell_type": "markdown",
   "metadata": {},
   "source": [
    "Import data and perform some basic commands to get some information."
   ]
  },
  {
   "cell_type": "code",
   "execution_count": 30,
   "metadata": {},
   "outputs": [
    {
     "name": "stdout",
     "output_type": "stream",
     "text": [
      "<bound method NDFrame.head of                     Name  Age  Gender Blood Type Medical Condition  \\\n",
      "0          Bobby JacksOn   30    Male         B-            Cancer   \n",
      "1           LesLie TErRy   62    Male         A+           Obesity   \n",
      "2            DaNnY sMitH   76  Female         A-           Obesity   \n",
      "3           andrEw waTtS   28  Female         O+          Diabetes   \n",
      "4          adrIENNE bEll   43  Female        AB+            Cancer   \n",
      "...                  ...  ...     ...        ...               ...   \n",
      "55495  eLIZABeTH jaCkSOn   42  Female         O+            Asthma   \n",
      "55496         KYle pEREz   61  Female        AB-           Obesity   \n",
      "55497       HEATher WaNG   38  Female         B+      Hypertension   \n",
      "55498     JENniFER JOneS   43    Male         O-         Arthritis   \n",
      "55499       jAMES GARCiA   53  Female         O+         Arthritis   \n",
      "\n",
      "      Date of Admission            Doctor                      Hospital  \\\n",
      "0            2024-01-31     Matthew Smith               Sons and Miller   \n",
      "1            2019-08-20   Samantha Davies                       Kim Inc   \n",
      "2            2022-09-22  Tiffany Mitchell                      Cook PLC   \n",
      "3            2020-11-18       Kevin Wells    Hernandez Rogers and Vang,   \n",
      "4            2022-09-19    Kathleen Hanna                   White-White   \n",
      "...                 ...               ...                           ...   \n",
      "55495        2020-08-16     Joshua Jarvis                Jones-Thompson   \n",
      "55496        2020-01-23   Taylor Sullivan                  Tucker-Moyer   \n",
      "55497        2020-07-13    Joe Jacobs DVM  and Mahoney Johnson Vasquez,   \n",
      "55498        2019-05-25    Kimberly Curry      Jackson Todd and Castro,   \n",
      "55499        2024-04-02     Dennis Warren                Henry Sons and   \n",
      "\n",
      "      Insurance Provider  Billing Amount  Room Number Admission Type  \\\n",
      "0             Blue Cross    18856.281306          328         Urgent   \n",
      "1               Medicare    33643.327287          265      Emergency   \n",
      "2                  Aetna    27955.096079          205      Emergency   \n",
      "3               Medicare    37909.782410          450       Elective   \n",
      "4                  Aetna    14238.317814          458         Urgent   \n",
      "...                  ...             ...          ...            ...   \n",
      "55495         Blue Cross     2650.714952          417       Elective   \n",
      "55496              Cigna    31457.797307          316       Elective   \n",
      "55497   UnitedHealthcare    27620.764717          347         Urgent   \n",
      "55498           Medicare    32451.092358          321       Elective   \n",
      "55499              Aetna     4010.134172          448         Urgent   \n",
      "\n",
      "      Discharge Date   Medication  Test Results  \n",
      "0         2024-02-02  Paracetamol        Normal  \n",
      "1         2019-08-26    Ibuprofen  Inconclusive  \n",
      "2         2022-10-07      Aspirin        Normal  \n",
      "3         2020-12-18    Ibuprofen      Abnormal  \n",
      "4         2022-10-09   Penicillin      Abnormal  \n",
      "...              ...          ...           ...  \n",
      "55495     2020-09-15   Penicillin      Abnormal  \n",
      "55496     2020-02-01      Aspirin        Normal  \n",
      "55497     2020-08-10    Ibuprofen      Abnormal  \n",
      "55498     2019-05-31    Ibuprofen      Abnormal  \n",
      "55499     2024-04-29    Ibuprofen      Abnormal  \n",
      "\n",
      "[55500 rows x 15 columns]>\n",
      "Name                   object\n",
      "Age                     int64\n",
      "Gender                 object\n",
      "Blood Type             object\n",
      "Medical Condition      object\n",
      "Date of Admission      object\n",
      "Doctor                 object\n",
      "Hospital               object\n",
      "Insurance Provider     object\n",
      "Billing Amount        float64\n",
      "Room Number             int64\n",
      "Admission Type         object\n",
      "Discharge Date         object\n",
      "Medication             object\n",
      "Test Results           object\n",
      "dtype: object\n",
      "(55500, 15)\n",
      "['Name', 'Age', 'Gender', 'Blood Type', 'Medical Condition', 'Date of Admission', 'Doctor', 'Hospital', 'Insurance Provider', 'Billing Amount', 'Room Number', 'Admission Type', 'Discharge Date', 'Medication', 'Test Results']\n"
     ]
    }
   ],
   "source": [
    "df = r'C:\\Users\\user\\Desktop\\Meteorite Landings Project\\healthcare_proj\\healthcare_dataset.csv'\n",
    "df = pd.read_csv(df)\n",
    "\n",
    "print(df.head)\n",
    "print(df.dtypes)\n",
    "print(df.shape)\n",
    "print(df.columns.values.tolist())"
   ]
  },
  {
   "cell_type": "markdown",
   "metadata": {},
   "source": [
    "Can see some issues straight away:\n",
    "- Formatting issue in 'Name' values\n",
    "- Too many decimal places shown in 'Billing Amount' values\n",
    "- 'Admission' and 'Discharge' dates are object datatypes instead of datetime\n",
    "\n",
    "Get more information on values for each variable"
   ]
  },
  {
   "cell_type": "code",
   "execution_count": 31,
   "metadata": {},
   "outputs": [
    {
     "name": "stdout",
     "output_type": "stream",
     "text": [
      "['Male' 'Female']\n",
      "['B-' 'A+' 'A-' 'O+' 'AB+' 'AB-' 'B+' 'O-']\n",
      "['Cancer' 'Obesity' 'Diabetes' 'Asthma' 'Hypertension' 'Arthritis']\n",
      "['Matthew Smith' 'Samantha Davies' 'Tiffany Mitchell' ... 'Deborah Sutton'\n",
      " 'Mary Bartlett' 'Alec May']\n",
      "['Sons and Miller' 'Kim Inc' 'Cook PLC' ... 'Guzman Jones and Graves,'\n",
      " 'and Williams, Brown Mckenzie' 'Moreno Murphy, Griffith and']\n",
      "['Blue Cross' 'Medicare' 'Aetna' 'UnitedHealthcare' 'Cigna']\n",
      "['Urgent' 'Emergency' 'Elective']\n",
      "['Paracetamol' 'Ibuprofen' 'Aspirin' 'Penicillin' 'Lipitor']\n",
      "['Normal' 'Inconclusive' 'Abnormal']\n",
      "39876\n",
      "40341\n"
     ]
    }
   ],
   "source": [
    "print(df['Gender'].unique())                    \n",
    "print(df['Blood Type'].unique())                \n",
    "print(df['Medical Condition'].unique())         \n",
    "print(df['Doctor'].unique())                    \n",
    "print(df['Hospital'].unique())                  \n",
    "print(df['Insurance Provider'].unique())        \n",
    "print(df['Admission Type'].unique())            \n",
    "print(df['Medication'].unique())                \n",
    "print(df['Test Results'].unique())              \n",
    "\n",
    "print(df['Hospital'].nunique())                \n",
    "print(df['Doctor'].nunique())  "
   ]
  },
  {
   "cell_type": "markdown",
   "metadata": {},
   "source": [
    "No obvious errors seen,\n",
    "Lots of different hospitals and doctors: 39876 and 40341 respectively."
   ]
  },
  {
   "cell_type": "markdown",
   "metadata": {},
   "source": [
    "2. CLEANING AND ANALYSIS PREP STAGE\n",
    "Things to correct:\n",
    "- Formatting in 'Name' values\n",
    "- Data type for 'Admission' and 'Discharge' values\n",
    "- 'Billing Amount' decimal places\n",
    "- Check for duplicates and null values and remove where necessary"
   ]
  },
  {
   "cell_type": "code",
   "execution_count": 32,
   "metadata": {},
   "outputs": [
    {
     "name": "stdout",
     "output_type": "stream",
     "text": [
      "Name                          object\n",
      "Age                            int64\n",
      "Gender                        object\n",
      "Blood Type                    object\n",
      "Medical Condition             object\n",
      "Date of Admission     datetime64[ns]\n",
      "Doctor                        object\n",
      "Hospital                      object\n",
      "Insurance Provider            object\n",
      "Billing Amount               float64\n",
      "Room Number                    int64\n",
      "Admission Type                object\n",
      "Discharge Date        datetime64[ns]\n",
      "Medication                    object\n",
      "Test Results                  object\n",
      "dtype: object\n"
     ]
    }
   ],
   "source": [
    "df['Name'] = df['Name'].str.title() \n",
    "\n",
    "df['Date of Admission'] = pd.to_datetime(df['Date of Admission'], format='%Y-%m-%d')\n",
    "df['Discharge Date'] = pd.to_datetime(df['Discharge Date'], format='%Y-%m-%d')\n",
    "\n",
    "print(df.dtypes)"
   ]
  },
  {
   "cell_type": "code",
   "execution_count": 33,
   "metadata": {},
   "outputs": [
    {
     "name": "stdout",
     "output_type": "stream",
     "text": [
      "0        18856.28\n",
      "1        33643.33\n",
      "2        27955.10\n",
      "3        37909.78\n",
      "4        14238.32\n",
      "           ...   \n",
      "55495     2650.71\n",
      "55496    31457.80\n",
      "55497    27620.76\n",
      "55498    32451.09\n",
      "55499     4010.13\n",
      "Name: Billing Amount, Length: 55500, dtype: float64\n"
     ]
    }
   ],
   "source": [
    "df['Billing Amount'] = df['Billing Amount'].round(2)\n",
    "print(df['Billing Amount'])"
   ]
  },
  {
   "cell_type": "code",
   "execution_count": 34,
   "metadata": {},
   "outputs": [
    {
     "name": "stdout",
     "output_type": "stream",
     "text": [
      "No. of duplicates: 534\n",
      "Any nulls?: False\n"
     ]
    }
   ],
   "source": [
    "print(f'No. of duplicates: {df.duplicated().sum()}')\n",
    "\n",
    "print(f'Any nulls?: {df.isnull().values.any()}') "
   ]
  },
  {
   "cell_type": "markdown",
   "metadata": {},
   "source": [
    "- 534 duplicate rows out of 55500 (0.96%)\n",
    "- No null values in whole dataset (!)"
   ]
  },
  {
   "cell_type": "code",
   "execution_count": 35,
   "metadata": {},
   "outputs": [
    {
     "name": "stdout",
     "output_type": "stream",
     "text": [
      "<bound method DataFrame.sum of                     Name  Age  Gender Blood Type Medical Condition  \\\n",
      "0          Bobby Jackson   30    Male         B-            Cancer   \n",
      "1           Leslie Terry   62    Male         A+           Obesity   \n",
      "2            Danny Smith   76  Female         A-           Obesity   \n",
      "3           Andrew Watts   28  Female         O+          Diabetes   \n",
      "4          Adrienne Bell   43  Female        AB+            Cancer   \n",
      "...                  ...  ...     ...        ...               ...   \n",
      "55495  Elizabeth Jackson   42  Female         O+            Asthma   \n",
      "55496         Kyle Perez   61  Female        AB-           Obesity   \n",
      "55497       Heather Wang   38  Female         B+      Hypertension   \n",
      "55498     Jennifer Jones   43    Male         O-         Arthritis   \n",
      "55499       James Garcia   53  Female         O+         Arthritis   \n",
      "\n",
      "      Date of Admission            Doctor                      Hospital  \\\n",
      "0            2024-01-31     Matthew Smith               Sons and Miller   \n",
      "1            2019-08-20   Samantha Davies                       Kim Inc   \n",
      "2            2022-09-22  Tiffany Mitchell                      Cook PLC   \n",
      "3            2020-11-18       Kevin Wells    Hernandez Rogers and Vang,   \n",
      "4            2022-09-19    Kathleen Hanna                   White-White   \n",
      "...                 ...               ...                           ...   \n",
      "55495        2020-08-16     Joshua Jarvis                Jones-Thompson   \n",
      "55496        2020-01-23   Taylor Sullivan                  Tucker-Moyer   \n",
      "55497        2020-07-13    Joe Jacobs DVM  and Mahoney Johnson Vasquez,   \n",
      "55498        2019-05-25    Kimberly Curry      Jackson Todd and Castro,   \n",
      "55499        2024-04-02     Dennis Warren                Henry Sons and   \n",
      "\n",
      "      Insurance Provider  Billing Amount  Room Number Admission Type  \\\n",
      "0             Blue Cross        18856.28          328         Urgent   \n",
      "1               Medicare        33643.33          265      Emergency   \n",
      "2                  Aetna        27955.10          205      Emergency   \n",
      "3               Medicare        37909.78          450       Elective   \n",
      "4                  Aetna        14238.32          458         Urgent   \n",
      "...                  ...             ...          ...            ...   \n",
      "55495         Blue Cross         2650.71          417       Elective   \n",
      "55496              Cigna        31457.80          316       Elective   \n",
      "55497   UnitedHealthcare        27620.76          347         Urgent   \n",
      "55498           Medicare        32451.09          321       Elective   \n",
      "55499              Aetna         4010.13          448         Urgent   \n",
      "\n",
      "      Discharge Date   Medication  Test Results  \n",
      "0         2024-02-02  Paracetamol        Normal  \n",
      "1         2019-08-26    Ibuprofen  Inconclusive  \n",
      "2         2022-10-07      Aspirin        Normal  \n",
      "3         2020-12-18    Ibuprofen      Abnormal  \n",
      "4         2022-10-09   Penicillin      Abnormal  \n",
      "...              ...          ...           ...  \n",
      "55495     2020-09-15   Penicillin      Abnormal  \n",
      "55496     2020-02-01      Aspirin        Normal  \n",
      "55497     2020-08-10    Ibuprofen      Abnormal  \n",
      "55498     2019-05-31    Ibuprofen      Abnormal  \n",
      "55499     2024-04-29    Ibuprofen      Abnormal  \n",
      "\n",
      "[54966 rows x 15 columns]>\n"
     ]
    }
   ],
   "source": [
    "df_dedup = df.drop_duplicates()\n",
    "print(df_dedup.sum)\n",
    "df = df_dedup\n"
   ]
  },
  {
   "cell_type": "markdown",
   "metadata": {},
   "source": [
    "Can see duplicate rows have been removed. 54966 rows remaining.\n",
    "\n",
    "- Change variable names of 'Date of Admission' to be consistent with 'Discharge Date'\n",
    "- Also change 'Billing Amount' to 'Billing Amount (£)' to add context"
   ]
  },
  {
   "cell_type": "code",
   "execution_count": 36,
   "metadata": {},
   "outputs": [
    {
     "name": "stdout",
     "output_type": "stream",
     "text": [
      "Index(['Name', 'Age', 'Gender', 'Blood Type', 'Medical Condition',\n",
      "       'Admission Date', 'Doctor', 'Hospital', 'Insurance Provider',\n",
      "       'Billing Amount (£)', 'Room Number', 'Admission Type', 'Discharge Date',\n",
      "       'Medication', 'Test Results'],\n",
      "      dtype='object')\n"
     ]
    }
   ],
   "source": [
    "df.rename(columns={'Date of Admission': 'Admission Date'}, inplace=True)\n",
    "df.rename(columns={'Billing Amount': 'Billing Amount (£)'}, inplace=True)\n",
    "print(df.columns)"
   ]
  },
  {
   "cell_type": "markdown",
   "metadata": {},
   "source": [
    "Create new variable finding time in hospital (time between discharge and admission)"
   ]
  },
  {
   "cell_type": "code",
   "execution_count": 37,
   "metadata": {},
   "outputs": [],
   "source": [
    "df['Time Taken to be Discharged'] = df['Discharge Date'] - df['Admission Date']"
   ]
  },
  {
   "cell_type": "markdown",
   "metadata": {},
   "source": [
    "Cleaning and Analysis Prep Stage complete.\n",
    "\n",
    "3. ANALYSIS STAGE\n",
    "- Perform some statistical analysis: averages, min, max, std deviation etc.\n",
    "- Find distribution of variables: Gender, Age, Blood Type\n",
    "- Create some plots to explore relationships between variables\n"
   ]
  },
  {
   "cell_type": "code",
   "execution_count": 38,
   "metadata": {},
   "outputs": [
    {
     "name": "stdout",
     "output_type": "stream",
     "text": [
      "min     13.000000\n",
      "max     89.000000\n",
      "mean    51.535185\n",
      "std     19.605661\n",
      "Name: Age, dtype: float64\n",
      "min     -2008.490000\n",
      "max     52764.280000\n",
      "mean    25544.306260\n",
      "std     14208.409715\n",
      "Name: Billing Amount (£), dtype: float64\n"
     ]
    }
   ],
   "source": [
    "print(df['Age'].agg(['min','max', 'mean', 'std']))\n",
    "print(df['Billing Amount (£)'].agg(['min','max', 'mean', 'std'])) "
   ]
  },
  {
   "cell_type": "markdown",
   "metadata": {},
   "source": [
    "See there are negative values for Billing Amount - doesn't seem correct so will explore further"
   ]
  },
  {
   "cell_type": "code",
   "execution_count": 39,
   "metadata": {},
   "outputs": [
    {
     "name": "stdout",
     "output_type": "stream",
     "text": [
      "                           Name  Age  Gender Blood Type Medical Condition  \\\n",
      "132             Ashley Erickson   32  Female        AB-            Cancer   \n",
      "799           Christopher Weiss   49  Female        AB-            Asthma   \n",
      "1018              Ashley Warner   60    Male         A+      Hypertension   \n",
      "1421               Jay Galloway   74  Female         O+            Asthma   \n",
      "2103          Joshua Williamson   72  Female         B-          Diabetes   \n",
      "...                         ...  ...     ...        ...               ...   \n",
      "52213  Mr. Christopher Alvarado   74    Male        AB+           Obesity   \n",
      "52629          Gabrielle Decker   66    Male        AB-         Arthritis   \n",
      "53204             Ashley Warner   55    Male         A+      Hypertension   \n",
      "53232              Daniel Drake   68  Female         B+      Hypertension   \n",
      "54136         Dr. Michael Mckay   64    Male         O+            Cancer   \n",
      "\n",
      "      Admission Date               Doctor                   Hospital  \\\n",
      "132       2019-11-05        Gerald Hooper  and Johnson Moore, Branch   \n",
      "799       2023-02-16       Kelly Thompson              Hunter-Hughes   \n",
      "1018      2021-12-21       Andrea Bentley      and Wagner, Lee Klein   \n",
      "1421      2021-01-20        Debra Everett               Group Peters   \n",
      "2103      2021-03-21          Wendy Ramos    and Huff Reeves, Dennis   \n",
      "...              ...                  ...                        ...   \n",
      "52213     2022-06-03  Mr. Dean Guzman DDS                Johnson Inc   \n",
      "52629     2022-11-07       William Krause                Diaz-Bishop   \n",
      "53204     2021-12-21       Andrea Bentley      and Wagner, Lee Klein   \n",
      "53232     2020-04-24            Brett Ray                   Carr Ltd   \n",
      "54136     2019-05-31         Dawn Navarro  Mcconnell and Rios, Clark   \n",
      "\n",
      "      Insurance Provider  Billing Amount (£)  Room Number Admission Type  \\\n",
      "132                Aetna             -502.51          376         Urgent   \n",
      "799                Aetna            -1018.25          204       Elective   \n",
      "1018               Aetna             -306.36          426       Elective   \n",
      "1421          Blue Cross             -109.10          381      Emergency   \n",
      "2103          Blue Cross             -576.73          369         Urgent   \n",
      "...                  ...                 ...          ...            ...   \n",
      "52213         Blue Cross            -1310.27          257       Elective   \n",
      "52629              Cigna             -676.85          354         Urgent   \n",
      "53204              Aetna             -306.36          426       Elective   \n",
      "53232              Aetna             -591.92          426       Elective   \n",
      "54136   UnitedHealthcare             -199.66          122         Urgent   \n",
      "\n",
      "      Discharge Date   Medication  Test Results Time Taken to be Discharged  \n",
      "132       2019-11-23   Penicillin        Normal                     18 days  \n",
      "799       2023-03-09   Penicillin  Inconclusive                     21 days  \n",
      "1018      2022-01-11    Ibuprofen        Normal                     21 days  \n",
      "1421      2021-02-09    Ibuprofen      Abnormal                     20 days  \n",
      "2103      2021-04-17      Aspirin      Abnormal                     27 days  \n",
      "...              ...          ...           ...                         ...  \n",
      "52213     2022-06-13  Paracetamol  Inconclusive                     10 days  \n",
      "52629     2022-11-30   Penicillin        Normal                     23 days  \n",
      "53204     2022-01-11    Ibuprofen        Normal                     21 days  \n",
      "53232     2020-04-26      Lipitor      Abnormal                      2 days  \n",
      "54136     2019-06-12    Ibuprofen      Abnormal                     12 days  \n",
      "\n",
      "[106 rows x 16 columns]\n",
      "Empty DataFrame\n",
      "Columns: [Name, Age, Gender, Blood Type, Medical Condition, Admission Date, Doctor, Hospital, Insurance Provider, Billing Amount (£), Room Number, Admission Type, Discharge Date, Medication, Test Results, Time Taken to be Discharged]\n",
      "Index: []\n"
     ]
    }
   ],
   "source": [
    "neg_billing = df[df['Billing Amount (£)'] < 0]\n",
    "print(neg_billing)\n",
    "zero_billing = df[df['Billing Amount (£)'] == 0]  \n",
    "print(zero_billing)\n",
    "\n"
   ]
  },
  {
   "cell_type": "markdown",
   "metadata": {},
   "source": [
    "106 rows with negative Billing Amount values --> remove:"
   ]
  },
  {
   "cell_type": "code",
   "execution_count": 40,
   "metadata": {},
   "outputs": [],
   "source": [
    "df = df[df['Billing Amount (£)'] >= 0]"
   ]
  },
  {
   "cell_type": "markdown",
   "metadata": {},
   "source": [
    "Find some statistical information of all numerical variables:"
   ]
  },
  {
   "cell_type": "code",
   "execution_count": 41,
   "metadata": {},
   "outputs": [
    {
     "name": "stdout",
     "output_type": "stream",
     "text": [
      "min     13.000000\n",
      "max     89.000000\n",
      "mean    51.533850\n",
      "std     19.605295\n",
      "Name: Age, dtype: float64\n",
      "min         9.240000\n",
      "max     52764.280000\n",
      "mean    25594.633612\n",
      "std     14175.867046\n",
      "Name: Billing Amount (£), dtype: float64\n",
      "min               1 days 00:00:00\n",
      "max              30 days 00:00:00\n",
      "mean   15 days 11:58:17.630331753\n",
      "std     8 days 15:52:21.230009691\n",
      "Name: Time Taken to be Discharged, dtype: timedelta64[ns]\n",
      "min     101.000000\n",
      "max     500.000000\n",
      "mean    301.109752\n",
      "std     115.217195\n",
      "Name: Room Number, dtype: float64\n"
     ]
    }
   ],
   "source": [
    "print(df['Age'].agg(['min','max', 'mean', 'std']))\n",
    "print(df['Billing Amount (£)'].agg(['min','max', 'mean', 'std'])) \n",
    "print(df['Time Taken to be Discharged'].agg(['min','max', 'mean', 'std']))\n",
    "print(df['Room Number'].agg(['min','max', 'mean', 'std']))"
   ]
  },
  {
   "cell_type": "markdown",
   "metadata": {},
   "source": [
    "- Min age: 13, Max age: 89,      Average: 51\n",
    "- Time taken to be discharged - between 1 and 30 days,   Average: 15\n",
    "- Billing Amount - between £9.24 and £52,764.28,     Average : £26,000 approx\n",
    "- Room numbers from 101 to 500\n",
    "\n",
    "All numerical values have averages near to middle of ranges --> evenly distributed"
   ]
  },
  {
   "cell_type": "markdown",
   "metadata": {},
   "source": [
    "Want to explore if different variables affect Billing Amount\n"
   ]
  },
  {
   "cell_type": "code",
   "execution_count": 42,
   "metadata": {},
   "outputs": [
    {
     "name": "stdout",
     "output_type": "stream",
     "text": [
      "AVERAGE BILLING AMOUNT BY MEDICAL CONDITION\n",
      "Avg Billing Amount for 'Cancer': £25205.92\n",
      "Avg Billing Amount for 'Obesity': £25859.22\n",
      "Avg Billing Amount for 'Diabetes': £25714.33\n",
      "Avg Billing Amount for 'Asthma': £25685.38\n",
      "Avg Billing Amount for 'Hypertension': £25559.84\n",
      "Avg Billing Amount for 'Arthritis': £25542.90\n"
     ]
    }
   ],
   "source": [
    "print('AVERAGE BILLING AMOUNT BY MEDICAL CONDITION')\n",
    "condition_dfs = {}\n",
    "\n",
    "for condition in df['Medical Condition'].unique():\n",
    "    condition_df = df[df['Medical Condition'] == condition]\n",
    "    condition_dfs[condition] = condition_df\n",
    "\n",
    "avg_billings = {}\n",
    "\n",
    "for condition, condition_df in condition_dfs.items():\n",
    "    avg_billing = condition_df['Billing Amount (£)'].mean()\n",
    "    avg_billings[condition] = avg_billing\n",
    "\n",
    "for condition, avg_amount in avg_billings.items():\n",
    "    print(f\"Avg Billing Amount for '{condition}': £{avg_amount:.2f}\")"
   ]
  },
  {
   "cell_type": "markdown",
   "metadata": {},
   "source": [
    "Medical condition does not have a huge effect on Billing Amount."
   ]
  },
  {
   "cell_type": "code",
   "execution_count": 43,
   "metadata": {},
   "outputs": [
    {
     "name": "stdout",
     "output_type": "stream",
     "text": [
      "AVERAGE BILLING AMOUNT BY INSURANCE PROVIDER\n",
      "Avg Billing Amount for 'Blue Cross': £25639.27\n",
      "Avg Billing Amount for 'Medicare': £25678.09\n",
      "Avg Billing Amount for 'Aetna': £25615.26\n",
      "Avg Billing Amount for 'UnitedHealthcare': £25458.89\n",
      "Avg Billing Amount for 'Cigna': £25582.23\n",
      "AVERAGE BILLING AMOUNT BY MEDICATION\n",
      "Avg Billing Amount for 'Paracetamol': £25604.90\n",
      "Avg Billing Amount for 'Ibuprofen': £25795.04\n",
      "Avg Billing Amount for 'Aspirin': £25647.12\n",
      "Avg Billing Amount for 'Penicillin': £25541.18\n",
      "Avg Billing Amount for 'Lipitor': £25385.13\n",
      "AVERAGE BILLING AMOUNT BY TIME TAKEN TO BE DISCHARGED\n",
      "Avg Billing Amount for '2 days 00:00:00': £25346.62\n",
      "Avg Billing Amount for '6 days 00:00:00': £25947.92\n",
      "Avg Billing Amount for '15 days 00:00:00': £25725.85\n",
      "Avg Billing Amount for '30 days 00:00:00': £25525.40\n",
      "Avg Billing Amount for '20 days 00:00:00': £25943.54\n",
      "Avg Billing Amount for '4 days 00:00:00': £26060.52\n",
      "Avg Billing Amount for '12 days 00:00:00': £25578.73\n",
      "Avg Billing Amount for '10 days 00:00:00': £25513.26\n",
      "Avg Billing Amount for '13 days 00:00:00': £24972.37\n",
      "Avg Billing Amount for '3 days 00:00:00': £25988.67\n",
      "Avg Billing Amount for '23 days 00:00:00': £25966.04\n",
      "Avg Billing Amount for '16 days 00:00:00': £25744.60\n",
      "Avg Billing Amount for '28 days 00:00:00': £25865.18\n",
      "Avg Billing Amount for '5 days 00:00:00': £25500.75\n",
      "Avg Billing Amount for '21 days 00:00:00': £25445.52\n",
      "Avg Billing Amount for '25 days 00:00:00': £25318.24\n",
      "Avg Billing Amount for '7 days 00:00:00': £25844.49\n",
      "Avg Billing Amount for '19 days 00:00:00': £25172.17\n",
      "Avg Billing Amount for '29 days 00:00:00': £24881.55\n",
      "Avg Billing Amount for '24 days 00:00:00': £25779.65\n",
      "Avg Billing Amount for '27 days 00:00:00': £25581.86\n",
      "Avg Billing Amount for '9 days 00:00:00': £25612.55\n",
      "Avg Billing Amount for '14 days 00:00:00': £26318.46\n",
      "Avg Billing Amount for '26 days 00:00:00': £25688.76\n",
      "Avg Billing Amount for '17 days 00:00:00': £25537.15\n",
      "Avg Billing Amount for '22 days 00:00:00': £25462.61\n",
      "Avg Billing Amount for '8 days 00:00:00': £26153.07\n",
      "Avg Billing Amount for '18 days 00:00:00': £24853.87\n",
      "Avg Billing Amount for '1 days 00:00:00': £25346.31\n",
      "Avg Billing Amount for '11 days 00:00:00': £25154.66\n"
     ]
    }
   ],
   "source": [
    "print('AVERAGE BILLING AMOUNT BY INSURANCE PROVIDER')\n",
    "provider_dfs = {}\n",
    "for provider in df['Insurance Provider'].unique():\n",
    "    provider_df = df[df['Insurance Provider'] == provider]\n",
    "    provider_dfs[provider] = provider_df\n",
    "\n",
    "avg_prov_billings = {}\n",
    "for provider, provider_df in provider_dfs.items():\n",
    "    avg_prov_billing = provider_df['Billing Amount (£)'].mean()\n",
    "    avg_prov_billings[provider] = avg_prov_billing\n",
    "\n",
    "for provider, avg_prov_amount in avg_prov_billings.items():\n",
    "    print(f\"Avg Billing Amount for '{provider}': £{avg_prov_amount:.2f}\")\n",
    "\n",
    "print('AVERAGE BILLING AMOUNT BY MEDICATION')\n",
    "medication_dfs = {}\n",
    "for medication in df['Medication'].unique():\n",
    "    medication_df = df[df['Medication'] == medication]\n",
    "    medication_dfs[medication] = medication_df\n",
    "\n",
    "avg_med_billings = {}\n",
    "\n",
    "for medication, medication_df in medication_dfs.items():\n",
    "    avg_med_billing = medication_df['Billing Amount (£)'].mean()\n",
    "    avg_med_billings[medication] = avg_med_billing\n",
    "\n",
    "for medication, avg_med_amount in avg_med_billings.items():\n",
    "    print(f\"Avg Billing Amount for '{medication}': £{avg_med_amount:.2f}\")   \n",
    "\n",
    "\n",
    "print('AVERAGE BILLING AMOUNT BY TIME TAKEN TO BE DISCHARGED')\n",
    "\n",
    "discharged_dfs = {}\n",
    "for discharged in df['Time Taken to be Discharged'].unique():\n",
    "    discharged_df = df[df['Time Taken to be Discharged'] == discharged]\n",
    "    discharged_dfs[discharged] = discharged_df\n",
    "\n",
    "avg_dis_billings = {}\n",
    "\n",
    "for discharged, discharged_df in discharged_dfs.items():\n",
    "    avg_dis_billing = discharged_df['Billing Amount (£)'].mean()\n",
    "    avg_dis_billings[discharged] = avg_dis_billing\n",
    "\n",
    "for discharged, avg_dis_amount in avg_dis_billings.items():\n",
    "    print(f\"Avg Billing Amount for '{discharged}': £{avg_dis_amount:.2f}\")"
   ]
  },
  {
   "cell_type": "markdown",
   "metadata": {},
   "source": [
    "None of the variables have a huge impact on the billing amount, not any strong corellation."
   ]
  },
  {
   "cell_type": "markdown",
   "metadata": {},
   "source": [
    "Make some plots to show distribution of data by Gender, Age and Blood Type"
   ]
  },
  {
   "cell_type": "code",
   "execution_count": 44,
   "metadata": {},
   "outputs": [
    {
     "data": {
      "image/png": "[encoded data removed]",
      "text/plain": [
       "<Figure size 400x400 with 1 Axes>"
      ]
     },
     "metadata": {},
     "output_type": "display_data"
    }
   ],
   "source": [
    "gender_count = df['Gender'].value_counts()\n",
    "colours = ['blue', 'red']\n",
    "\n",
    "def value(val):\n",
    "    total = sum(gender_count)\n",
    "    absolute = int(round(val/100 * total))\n",
    "    return f\"{absolute}\"\n",
    "    \n",
    "\n",
    "plt.figure(figsize=(4, 4))\n",
    "plt.pie(gender_count, labels=gender_count.index, colors=colours, autopct=value, startangle=90)\n",
    "\n",
    "plt.title('Ratio of Male to Female Patients')\n",
    "\n",
    "plt.show()\n"
   ]
  },
  {
   "cell_type": "markdown",
   "metadata": {},
   "source": [
    "Almost completely even distribution of males and females.\n",
    "\n",
    "Now look at Age and Blood Types"
   ]
  },
  {
   "cell_type": "code",
   "execution_count": 45,
   "metadata": {},
   "outputs": [
    {
     "data": {
      "image/png": "[encoded data removed]",
      "text/plain": [
       "<Figure size 600x600 with 1 Axes>"
      ]
     },
     "metadata": {},
     "output_type": "display_data"
    },
    {
     "data": {
      "image/png": "[encoded data removed]",
      "text/plain": [
       "<Figure size 500x500 with 1 Axes>"
      ]
     },
     "metadata": {},
     "output_type": "display_data"
    }
   ],
   "source": [
    "age_count = df['Age'].value_counts()\n",
    "\n",
    "\n",
    "plt.figure(figsize=(6, 6))\n",
    "plt.bar(age_count.index, age_count.values)\n",
    "\n",
    "plt.title('Distribution of Patient Age')\n",
    "plt.xlabel('Age')\n",
    "plt.ylabel('Count')\n",
    "\n",
    "\n",
    "\n",
    "btype_count = df['Blood Type'].value_counts()\n",
    "\n",
    "plt.figure(figsize=(5, 5))\n",
    "plt.bar(btype_count.index, btype_count.values)\n",
    "\n",
    "plt.title('Distribution of Patient Blood Types')\n",
    "plt.xlabel('Blood Type')\n",
    "plt.ylabel('Count')\n",
    "\n",
    "plt.show()"
   ]
  },
  {
   "cell_type": "markdown",
   "metadata": {},
   "source": [
    "Again, ages and blood types are fairly evenly distributed in this dataset. This would be attributed to the way the data was generated. It would be unlikely that the ages of patients would be evenly distributed and in the real world would be skewed towards older ages. Similarly, some blood types, like A+ and O+, are much more common than other types."
   ]
  },
  {
   "cell_type": "markdown",
   "metadata": {},
   "source": [
    "Will now create a correlation map visualisation to see if there are any relationships between variables at all. I predict that before completing there won't be any strong correlation between any variables, again due to the dataset being generated in a uniform way."
   ]
  },
  {
   "cell_type": "code",
   "execution_count": 49,
   "metadata": {},
   "outputs": [
    {
     "data": {
      "image/png": "[encoded data removed]",
      "text/plain": [
       "<Figure size 600x600 with 2 Axes>"
      ]
     },
     "metadata": {},
     "output_type": "display_data"
    }
   ],
   "source": [
    "import seaborn as sns\n",
    "\n",
    "correlation_matrix = df[['Age', 'Billing Amount (£)', 'Room Number', \n",
    "                         'Time Taken to be Discharged']].corr()\n",
    "\n",
    "plt.figure(figsize=(6, 6))\n",
    "sns.heatmap(correlation_matrix, annot=True, cmap='coolwarm', fmt='.2f')\n",
    "\n",
    "plt.title('Correlation Map')\n",
    "plt.show()"
   ]
  },
  {
   "cell_type": "markdown",
   "metadata": {},
   "source": [
    "All corellations between variables are 0 or close to 0, meaning there is no linear relationships between these variables."
   ]
  }
 ],
 "metadata": {
  "kernelspec": {
   "display_name": ".venv",
   "language": "python",
   "name": "python3"
  },
  "language_info": {
   "codemirror_mode": {
    "name": "ipython",
    "version": 3
   },
   "file_extension": ".py",
   "mimetype": "text/x-python",
   "name": "python",
   "nbconvert_exporter": "python",
   "pygments_lexer": "ipython3",
   "version": "3.12.0"
  }
 },
 "nbformat": 4,
 "nbformat_minor": 2
}
